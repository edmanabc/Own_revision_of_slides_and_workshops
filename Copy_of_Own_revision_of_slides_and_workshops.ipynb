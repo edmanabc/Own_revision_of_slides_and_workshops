{
  "nbformat": 4,
  "nbformat_minor": 0,
  "metadata": {
    "colab": {
      "provenance": [],
      "authorship_tag": "ABX9TyMuZE6xMoaxDsUJ56JkDEYa",
      "include_colab_link": true
    },
    "kernelspec": {
      "name": "python3",
      "display_name": "Python 3"
    },
    "language_info": {
      "name": "python"
    }
  },
  "cells": [
    {
      "cell_type": "markdown",
      "metadata": {
        "id": "view-in-github",
        "colab_type": "text"
      },
      "source": [
        "<a href=\"https://colab.research.google.com/github/edmanabc/Own_revision_of_slides_and_workshops/blob/main/Copy_of_Own_revision_of_slides_and_workshops.ipynb\" target=\"_parent\"><img src=\"https://colab.research.google.com/assets/colab-badge.svg\" alt=\"Open In Colab\"/></a>"
      ]
    },
    {
      "cell_type": "markdown",
      "source": [
        "**WEEK 2 GETTING STARTED WITH PYTHON WORKSHOP SLIDES**"
      ],
      "metadata": {
        "id": "7qfptB8MOe89"
      }
    },
    {
      "cell_type": "markdown",
      "source": [
        "**Name          Python Type     Description**\n",
        "Boolean         bool            A logical value either True or False\n",
        "\n",
        "Floating Point  float           Fractional numbers such as 11.0, 6.5, -97.10, etc.\n",
        "\n",
        "Integers        int             Whole numbers such as -6, 251, -32567, etc.\n",
        "\n",
        "Strings         str             Bunch of characters in an ordered sequence: “Python”, “Hi”, etc.\n",
        "\n",
        "List            list            Ordered Sequence of Objects in [] parenthesis separated by comma. Can be mixture of different data types. Example, [1,2,3,4] , [‘hello’, 255, 565.3]\n",
        "\n",
        "Dictionaries    dict            ‘Key : value’ pairs enclosed in {} parenthesis with no order. Example, {“key1” : ”value1”, “key2” : “value2”}, {1: 'apple', 2: 'ball'}\n",
        "\n",
        "Sets           set              Unordered, unique collection of objects in {} parenthesis. Example {\"mango\", \"banana\", \"apple\"}\n",
        "\n",
        "Tuples         tup              Ordered unchangeable sequence of objects in () parenthesis. Example (\"mango\", \"banana\", \"apple\")"
      ],
      "metadata": {
        "id": "ZiuH0co0HtFw"
      }
    },
    {
      "cell_type": "markdown",
      "source": [
        "Use str(), int() and float() functions to convert a number to a string or vice versa.\n",
        "\n",
        "**In Python, the type of any object can be determined by type(<object>)**\n"
      ],
      "metadata": {
        "id": "JZxuqx7lFIzp"
      }
    },
    {
      "cell_type": "code",
      "execution_count": null,
      "metadata": {
        "id": "R64eXFpbEzca",
        "colab": {
          "base_uri": "https://localhost:8080/",
          "height": 36
        },
        "outputId": "9d5112e8-8865-4231-8c24-39fd89221412"
      },
      "outputs": [
        {
          "output_type": "execute_result",
          "data": {
            "text/plain": [
              "'423'"
            ],
            "application/vnd.google.colaboratory.intrinsic+json": {
              "type": "string"
            }
          },
          "metadata": {},
          "execution_count": 1
        }
      ],
      "source": [
        "#converting number to a string\n",
        "num = 423\n",
        "str(num)"
      ]
    },
    {
      "cell_type": "code",
      "source": [
        "type(4.532)"
      ],
      "metadata": {
        "colab": {
          "base_uri": "https://localhost:8080/"
        },
        "id": "NPcxU7DHFYGl",
        "outputId": "132b5d17-985b-444c-87e5-60fe60f0ff31"
      },
      "execution_count": null,
      "outputs": [
        {
          "output_type": "execute_result",
          "data": {
            "text/plain": [
              "float"
            ]
          },
          "metadata": {},
          "execution_count": 2
        }
      ]
    },
    {
      "cell_type": "code",
      "source": [
        "#converting a float into an integer\n",
        "num3 = 4.532\n",
        "int(num3)"
      ],
      "metadata": {
        "colab": {
          "base_uri": "https://localhost:8080/"
        },
        "id": "wXbJhm9WGB__",
        "outputId": "b4a048ef-302f-47f8-f516-c0fabd4a9baf"
      },
      "execution_count": null,
      "outputs": [
        {
          "output_type": "execute_result",
          "data": {
            "text/plain": [
              "4"
            ]
          },
          "metadata": {},
          "execution_count": 3
        }
      ]
    },
    {
      "cell_type": "code",
      "source": [
        "#converting a string into an integer\n",
        "str_num = \"345\"\n",
        "int(str_num)"
      ],
      "metadata": {
        "colab": {
          "base_uri": "https://localhost:8080/"
        },
        "id": "XxdO_LliGY_z",
        "outputId": "da30525c-bb7c-46db-9e11-b617ae41361f"
      },
      "execution_count": null,
      "outputs": [
        {
          "output_type": "execute_result",
          "data": {
            "text/plain": [
              "345"
            ]
          },
          "metadata": {},
          "execution_count": 4
        }
      ]
    },
    {
      "cell_type": "code",
      "source": [
        "#converting an integer into a string\n",
        "int_str = 345\n",
        "str(int_str)"
      ],
      "metadata": {
        "colab": {
          "base_uri": "https://localhost:8080/",
          "height": 36
        },
        "id": "RXkrS3d-GqzD",
        "outputId": "426cbea5-8d9e-45d4-bd75-d63969564822"
      },
      "execution_count": null,
      "outputs": [
        {
          "output_type": "execute_result",
          "data": {
            "text/plain": [
              "'345'"
            ],
            "application/vnd.google.colaboratory.intrinsic+json": {
              "type": "string"
            }
          },
          "metadata": {},
          "execution_count": 5
        }
      ]
    },
    {
      "cell_type": "markdown",
      "source": [
        "**Python: Special Characters - Examples**\n",
        "Code Result\n",
        "\\\"   Quote inside string\n",
        "\\\\   Backslash\n",
        "\\n   New Line\n",
        "\\r   Carriage Return\n",
        "\\t   Tab\n",
        "\\b   Backspace"
      ],
      "metadata": {
        "id": "1JxFa60oHPGV"
      }
    },
    {
      "cell_type": "code",
      "source": [
        "#Adding quote marks inside a string\n",
        "print(\"Their apparent \\\"intention\\\" was not honest\")"
      ],
      "metadata": {
        "colab": {
          "base_uri": "https://localhost:8080/"
        },
        "id": "1-MT3CQVHTUl",
        "outputId": "aec02a2e-2e9d-460e-ef09-2669bf3cd930"
      },
      "execution_count": null,
      "outputs": [
        {
          "output_type": "stream",
          "name": "stdout",
          "text": [
            "Their apparent \"intention\" was not honest\n"
          ]
        }
      ]
    },
    {
      "cell_type": "code",
      "source": [
        "#Adding a line break\n",
        "print(\"Here is the \\n new line\")"
      ],
      "metadata": {
        "colab": {
          "base_uri": "https://localhost:8080/"
        },
        "id": "IsDdBvjBJJUg",
        "outputId": "401e2ca8-b111-46d0-ea82-d91df448418b"
      },
      "execution_count": null,
      "outputs": [
        {
          "output_type": "stream",
          "name": "stdout",
          "text": [
            "Here is the \n",
            " new line\n"
          ]
        }
      ]
    },
    {
      "cell_type": "code",
      "source": [
        "#Adding a tab space\n",
        "print(\"Here is the \\t tab space\")"
      ],
      "metadata": {
        "colab": {
          "base_uri": "https://localhost:8080/"
        },
        "id": "9iJ09F5AJYDn",
        "outputId": "8450348d-9ca1-4f84-a576-40849b141bc8"
      },
      "execution_count": null,
      "outputs": [
        {
          "output_type": "stream",
          "name": "stdout",
          "text": [
            "Here is the \t tab space\n"
          ]
        }
      ]
    },
    {
      "cell_type": "code",
      "source": [
        "#Adding a back space\n",
        "print (\"Here is the \\bback space\")"
      ],
      "metadata": {
        "colab": {
          "base_uri": "https://localhost:8080/"
        },
        "id": "II2FNcw2Jh0T",
        "outputId": "1811fe74-95d9-48a0-e3c4-4d32f4840d47"
      },
      "execution_count": null,
      "outputs": [
        {
          "output_type": "stream",
          "name": "stdout",
          "text": [
            "Here is the \bback space\n"
          ]
        }
      ]
    },
    {
      "cell_type": "markdown",
      "source": [
        "**Strings index**\n",
        "Strings are an ordered collection of characters\n",
        "Every single character has an index assigned to it. Indexes start from 0\n",
        "character can be accessed using its index"
      ],
      "metadata": {
        "id": "FAV1TgODKT1i"
      }
    },
    {
      "cell_type": "code",
      "source": [
        "#Finding index position of a character in a string\n",
        "mystring = \"Hello\"\n",
        "mystring[4]"
      ],
      "metadata": {
        "colab": {
          "base_uri": "https://localhost:8080/",
          "height": 36
        },
        "id": "O4CeNIChKitQ",
        "outputId": "d13a30a9-2eb8-4b47-97ee-046480c7fa79"
      },
      "execution_count": null,
      "outputs": [
        {
          "output_type": "execute_result",
          "data": {
            "text/plain": [
              "'o'"
            ],
            "application/vnd.google.colaboratory.intrinsic+json": {
              "type": "string"
            }
          },
          "metadata": {},
          "execution_count": 14
        }
      ]
    },
    {
      "cell_type": "code",
      "source": [
        "#Finding index position of a character in a string using reverse index - the zero never changes. The second character is -4, then the third is -3 etc.\n",
        "\n",
        "mystring = \"Hello\"\n",
        "mystring[-4]"
      ],
      "metadata": {
        "colab": {
          "base_uri": "https://localhost:8080/",
          "height": 36
        },
        "id": "tavxGDn1LHJD",
        "outputId": "d5b0ac1d-b134-468c-c43d-d07d8bc4c1dd"
      },
      "execution_count": null,
      "outputs": [
        {
          "output_type": "execute_result",
          "data": {
            "text/plain": [
              "'e'"
            ],
            "application/vnd.google.colaboratory.intrinsic+json": {
              "type": "string"
            }
          },
          "metadata": {},
          "execution_count": 15
        }
      ]
    },
    {
      "cell_type": "markdown",
      "source": [
        "**Strings Slicing**\n",
        "Using slicing, you can return a range of characters by leveraging indexing\n",
        "The simplest syntax is <Variable_Name>.[start_index:stop_index]\n",
        "The end index is not the part of the sliced output - always misses the end!\n",
        "Skipping the start index in slicing, the range will begin from the first character\n",
        "Skipping the last index, the range will go till the end including the last character\n",
        "In previous examples, slicing was having a \"step\" of 1 (Default). The step is the number of characters you jump between two indices.\n",
        "If leveraging from \"step\" is desired, the syntax is [start : stop : step]"
      ],
      "metadata": {
        "id": "OcDjrtdhFHhH"
      }
    },
    {
      "cell_type": "code",
      "source": [
        "#Slicing/removing the first character and the last so must +1 to get the last value I want, as below\n",
        "mystring = \"Hello\"\n",
        "mystring[1:4]"
      ],
      "metadata": {
        "colab": {
          "base_uri": "https://localhost:8080/",
          "height": 36
        },
        "id": "rAd04n_pLxPL",
        "outputId": "0e5d8531-08b0-4de7-f187-8ed7d1005fa8"
      },
      "execution_count": null,
      "outputs": [
        {
          "output_type": "execute_result",
          "data": {
            "text/plain": [
              "'ell'"
            ],
            "application/vnd.google.colaboratory.intrinsic+json": {
              "type": "string"
            }
          },
          "metadata": {},
          "execution_count": 18
        }
      ]
    },
    {
      "cell_type": "code",
      "source": [
        "#Skipping the start index in slicing, the range will begin from the first character\n",
        "mystring[:4]"
      ],
      "metadata": {
        "colab": {
          "base_uri": "https://localhost:8080/",
          "height": 36
        },
        "id": "Wz56oinFMe8c",
        "outputId": "bd81a207-b9af-4796-f408-ba1c3877e3c4"
      },
      "execution_count": null,
      "outputs": [
        {
          "output_type": "execute_result",
          "data": {
            "text/plain": [
              "'Hell'"
            ],
            "application/vnd.google.colaboratory.intrinsic+json": {
              "type": "string"
            }
          },
          "metadata": {},
          "execution_count": 20
        }
      ]
    },
    {
      "cell_type": "code",
      "source": [
        "#Skipping the last index, the range will go till the end including the last character\n",
        "mystring[2:]"
      ],
      "metadata": {
        "colab": {
          "base_uri": "https://localhost:8080/",
          "height": 36
        },
        "id": "5bRRur_KMo60",
        "outputId": "541a3fd7-de09-4d0c-ace7-d1efc6cbe814"
      },
      "execution_count": null,
      "outputs": [
        {
          "output_type": "execute_result",
          "data": {
            "text/plain": [
              "'llo'"
            ],
            "application/vnd.google.colaboratory.intrinsic+json": {
              "type": "string"
            }
          },
          "metadata": {},
          "execution_count": 22
        }
      ]
    },
    {
      "cell_type": "code",
      "source": [
        "#The step is the number of characters you jump between two indices.\n",
        "#Below I am stepping/jumping between two indices by 2 characters\n",
        "mystring = \"Hello\"\n",
        "mystring[0:5:2]"
      ],
      "metadata": {
        "colab": {
          "base_uri": "https://localhost:8080/",
          "height": 36
        },
        "id": "rRD0z4l_NBDh",
        "outputId": "7426842b-0348-42cc-b1e0-062f832bd794"
      },
      "execution_count": null,
      "outputs": [
        {
          "output_type": "execute_result",
          "data": {
            "text/plain": [
              "'Hlo'"
            ],
            "application/vnd.google.colaboratory.intrinsic+json": {
              "type": "string"
            }
          },
          "metadata": {},
          "execution_count": 24
        }
      ]
    },
    {
      "cell_type": "code",
      "source": [
        "#An easier way to do the above cell \n",
        "mystring = \"Hello\"\n",
        "mystring[::2]"
      ],
      "metadata": {
        "colab": {
          "base_uri": "https://localhost:8080/",
          "height": 36
        },
        "id": "n7V_AwjkNxcP",
        "outputId": "bd7d13cd-b6da-4631-ff59-6185f0e43d2d"
      },
      "execution_count": null,
      "outputs": [
        {
          "output_type": "execute_result",
          "data": {
            "text/plain": [
              "'Hlo'"
            ],
            "application/vnd.google.colaboratory.intrinsic+json": {
              "type": "string"
            }
          },
          "metadata": {},
          "execution_count": 26
        }
      ]
    },
    {
      "cell_type": "code",
      "source": [
        "#The step is the number of characters you jump between two indices.\n",
        "#Below I am stepping/jumping between two indices by 3 characters\n",
        "mystring = \"Hello\"\n",
        "mystring[0:5:3]"
      ],
      "metadata": {
        "colab": {
          "base_uri": "https://localhost:8080/",
          "height": 36
        },
        "id": "jhv9VIQINoba",
        "outputId": "e9ef1a4e-5163-4190-f642-c3168cab61fb"
      },
      "execution_count": null,
      "outputs": [
        {
          "output_type": "execute_result",
          "data": {
            "text/plain": [
              "'Hl'"
            ],
            "application/vnd.google.colaboratory.intrinsic+json": {
              "type": "string"
            }
          },
          "metadata": {},
          "execution_count": 25
        }
      ]
    },
    {
      "cell_type": "markdown",
      "source": [
        "**Strings Properties - Concatenation**\n",
        "Two or more strings can be concatenated together using the '+' operator\n",
        "Similarly, a ' * ' operator can be used to multiply a string\n",
        "Be careful when using these operators with numbers"
      ],
      "metadata": {
        "id": "6WPaqzEHOsJ3"
      }
    },
    {
      "cell_type": "code",
      "source": [
        "#Combining two strings using +\n",
        "str1 = \"Hello today is\"\n",
        "str2 = \"the 25th December\"\n",
        "print(str1+str2)"
      ],
      "metadata": {
        "colab": {
          "base_uri": "https://localhost:8080/"
        },
        "id": "TlTKlZAuO0--",
        "outputId": "ad3b0563-5069-4fe7-8c4c-f59e450cdfc8"
      },
      "execution_count": null,
      "outputs": [
        {
          "output_type": "stream",
          "name": "stdout",
          "text": [
            "Hello today isthe 25th December\n"
          ]
        }
      ]
    },
    {
      "cell_type": "code",
      "source": [
        "#Using * to print out a string multiple times with a line break (otherwise it's repeated on the same line)\n",
        "string = \"Write this 5 times\\n\"\n",
        "print(string*5)"
      ],
      "metadata": {
        "colab": {
          "base_uri": "https://localhost:8080/"
        },
        "id": "yqyLuqc2PUbM",
        "outputId": "5328c230-8df2-4c36-942b-db5d2e10a40a"
      },
      "execution_count": null,
      "outputs": [
        {
          "output_type": "stream",
          "name": "stdout",
          "text": [
            "Write this 5 times\n",
            "Write this 5 times\n",
            "Write this 5 times\n",
            "Write this 5 times\n",
            "Write this 5 times\n",
            "\n"
          ]
        }
      ]
    },
    {
      "cell_type": "code",
      "source": [
        "#What happens when you use + for numbers which are strings\n",
        "\"10\" + \"6\""
      ],
      "metadata": {
        "colab": {
          "base_uri": "https://localhost:8080/",
          "height": 36
        },
        "id": "34UsDNERP1i9",
        "outputId": "2d6f287f-89cd-4a4f-966b-46895bd3a7ee"
      },
      "execution_count": null,
      "outputs": [
        {
          "output_type": "execute_result",
          "data": {
            "text/plain": [
              "'106'"
            ],
            "application/vnd.google.colaboratory.intrinsic+json": {
              "type": "string"
            }
          },
          "metadata": {},
          "execution_count": 33
        }
      ]
    },
    {
      "cell_type": "markdown",
      "source": [
        "**Strings are immutable** (slide 48 in 'Getting started with Python workshop slides')\n",
        "Remember that strings are immutable so characters within strings cannot be modified. An attempt to modify a string would\n",
        "return an error.\n",
        "Instead, use slicing and concatenation or methods for modifying strings"
      ],
      "metadata": {
        "id": "w8e_7QKcQ3rl"
      }
    },
    {
      "cell_type": "markdown",
      "source": [
        "**Commonly used string methods** (slide 49 in 'Getting started with Python workshop slides')\n",
        "String methods perform a particular function over a string\n",
        "To access string methods, enter <variable name>. + <Tab key> to select a method"
      ],
      "metadata": {
        "id": "-w5ioq16RY8U"
      }
    },
    {
      "cell_type": "code",
      "source": [
        "#Adding a . to the end seems to work for me, without the tab being used\n",
        "string."
      ],
      "metadata": {
        "id": "M38KzfT_Ruy_"
      },
      "execution_count": null,
      "outputs": []
    },
    {
      "cell_type": "markdown",
      "source": [
        "**For a table of the most commonly used string methods**, see slide 50 in 'Getting started with Python workshop slides' and 'What to refresh and learn' document page 12ish. "
      ],
      "metadata": {
        "id": "xjBLpd4TTMig"
      }
    },
    {
      "cell_type": "code",
      "source": [
        "#Capitalize - Makes the first character in string upper-case\n",
        "mystring = \"hey this is a string\"\n",
        "mystring.capitalize()"
      ],
      "metadata": {
        "colab": {
          "base_uri": "https://localhost:8080/",
          "height": 36
        },
        "id": "PpDyGBOrUZqh",
        "outputId": "9675068a-6984-43b2-ae04-a54e7a41ad5b"
      },
      "execution_count": null,
      "outputs": [
        {
          "output_type": "execute_result",
          "data": {
            "text/plain": [
              "'Hey this is a string'"
            ],
            "application/vnd.google.colaboratory.intrinsic+json": {
              "type": "string"
            }
          },
          "metadata": {},
          "execution_count": 35
        }
      ]
    },
    {
      "cell_type": "code",
      "source": [
        "#Casefold - Changes the whole string to lower-case\n",
        "mystring = \"THIS WAS UPPERCASE\"\n",
        "mystring.casefold()"
      ],
      "metadata": {
        "colab": {
          "base_uri": "https://localhost:8080/",
          "height": 36
        },
        "id": "6GbvhU-uUwda",
        "outputId": "8bb12773-eb12-4c8c-f303-f343ed5df4cc"
      },
      "execution_count": null,
      "outputs": [
        {
          "output_type": "execute_result",
          "data": {
            "text/plain": [
              "'this was uppercase'"
            ],
            "application/vnd.google.colaboratory.intrinsic+json": {
              "type": "string"
            }
          },
          "metadata": {},
          "execution_count": 36
        }
      ]
    },
    {
      "cell_type": "code",
      "source": [
        "#Count - Returns the frequency of searched value in a string i.e. returns the number of times that value appears\n",
        "mystring = \"how wow well\"\n",
        "mystring.count(\"w\")"
      ],
      "metadata": {
        "colab": {
          "base_uri": "https://localhost:8080/"
        },
        "id": "gZawSFhBVA_p",
        "outputId": "c7be6956-158d-4776-82a8-8cc627e13c3e"
      },
      "execution_count": null,
      "outputs": [
        {
          "output_type": "execute_result",
          "data": {
            "text/plain": [
              "4"
            ]
          },
          "metadata": {},
          "execution_count": 39
        }
      ]
    },
    {
      "cell_type": "code",
      "source": [
        "#Replace - Replaces a specified value with another value in a string\n",
        "mystring = \"Errpr\"\n",
        "mystring.replace(\"p\", \"o\")"
      ],
      "metadata": {
        "colab": {
          "base_uri": "https://localhost:8080/",
          "height": 36
        },
        "id": "PTnMnXIwVczN",
        "outputId": "d14c0553-3d01-42a3-c4a6-5b7643e016b4"
      },
      "execution_count": null,
      "outputs": [
        {
          "output_type": "execute_result",
          "data": {
            "text/plain": [
              "'Error'"
            ],
            "application/vnd.google.colaboratory.intrinsic+json": {
              "type": "string"
            }
          },
          "metadata": {},
          "execution_count": 41
        }
      ]
    },
    {
      "cell_type": "code",
      "source": [
        "#Split - Splits the string at the given separator, and returns it as a list\n",
        "mystring = \"how wow well\"\n",
        "mystring.split(\" \")"
      ],
      "metadata": {
        "colab": {
          "base_uri": "https://localhost:8080/"
        },
        "id": "bYAR_MBaV1EK",
        "outputId": "e1bb406c-5430-4b49-9b95-c65492af5c47"
      },
      "execution_count": null,
      "outputs": [
        {
          "output_type": "execute_result",
          "data": {
            "text/plain": [
              "['how', 'wow', 'well']"
            ]
          },
          "metadata": {},
          "execution_count": 43
        }
      ]
    },
    {
      "cell_type": "markdown",
      "source": [
        "**Strings Formatting**\n",
        "\n",
        "The '+' operator can be used to concatenate 2 strings. However '+' cannot be used for combining numbers with strings\n",
        "\n",
        "Instead we use the format() method to combine strings and numerics\n",
        "\n",
        "Syntax: Leave empty parenthesis {} within the string where you want the numeric to be. The syntax is <String>.format(<numeric>)\n",
        "\n",
        "The format method can also be used to combine two or more strings in a similar way"
      ],
      "metadata": {
        "id": "dfl2eeZwAJZm"
      }
    },
    {
      "cell_type": "code",
      "source": [
        "#Inserting numeric into a string using .format\n",
        "\"My salary will be {} by next April\".format(50000)"
      ],
      "metadata": {
        "colab": {
          "base_uri": "https://localhost:8080/",
          "height": 36
        },
        "id": "fxRIeLYoAlU4",
        "outputId": "e01dfbb7-aa5f-4289-8f58-d4dfb9c8f48a"
      },
      "execution_count": null,
      "outputs": [
        {
          "output_type": "execute_result",
          "data": {
            "text/plain": [
              "'My salary will be 50000 by next April'"
            ],
            "application/vnd.google.colaboratory.intrinsic+json": {
              "type": "string"
            }
          },
          "metadata": {},
          "execution_count": 1
        }
      ]
    },
    {
      "cell_type": "code",
      "source": [
        "#Inserting numeric into a string using .format\n",
        "mystring = \"My salary will be {} by next April\"\n",
        "salary = 50000\n",
        "print(mystring.format(salary))"
      ],
      "metadata": {
        "colab": {
          "base_uri": "https://localhost:8080/"
        },
        "id": "Nb-nB463AsrU",
        "outputId": "19c886a3-f134-4a59-bbf2-363b07713068"
      },
      "execution_count": null,
      "outputs": [
        {
          "output_type": "stream",
          "name": "stdout",
          "text": [
            "My salary will be 50000 by next April\n"
          ]
        }
      ]
    },
    {
      "cell_type": "code",
      "source": [
        "#Inserting strings and numeric into a string using .format\n",
        "mystring = \"I bought {} kg of {} that cost me {} pounds\"\n",
        "weight = 5\n",
        "product = \"apples\"\n",
        "price = 20\n",
        "print(mystring.format(weight,product,price)) \n",
        "\n",
        "#can also input the 20 directly without making it into a variable with the following code:\n",
        "#print(mystring.format(weight,product,20))"
      ],
      "metadata": {
        "colab": {
          "base_uri": "https://localhost:8080/"
        },
        "id": "s4EVf1agBrjO",
        "outputId": "ab39ea62-74d2-49b2-90d0-cfd64822f88b"
      },
      "execution_count": null,
      "outputs": [
        {
          "output_type": "stream",
          "name": "stdout",
          "text": [
            "I bought 5 kg of apples that cost me 20 pounds\n"
          ]
        }
      ]
    },
    {
      "cell_type": "code",
      "source": [
        "#Another way of inserting strings and numeric into a string using .format\n",
        "mystring = \"I bought {a} kg of {b} that cost me {c} pounds\"\n",
        "print(mystring.format(a = 5, b = \"apples\",c = 20))"
      ],
      "metadata": {
        "colab": {
          "base_uri": "https://localhost:8080/"
        },
        "id": "u042PGVQCiSZ",
        "outputId": "4a4224af-f9df-4b59-b611-d4e30807bf8b"
      },
      "execution_count": null,
      "outputs": [
        {
          "output_type": "stream",
          "name": "stdout",
          "text": [
            "I bought 5 kg of apples that cost me 20 pounds\n"
          ]
        }
      ]
    },
    {
      "cell_type": "code",
      "source": [
        "#Divide by\n",
        "10 / 7 "
      ],
      "metadata": {
        "colab": {
          "base_uri": "https://localhost:8080/"
        },
        "id": "K7iVa6xmD8Gl",
        "outputId": "d4ffaa3a-c7c2-42b8-b110-4f448be0711a"
      },
      "execution_count": null,
      "outputs": [
        {
          "output_type": "execute_result",
          "data": {
            "text/plain": [
              "1.4285714285714286"
            ]
          },
          "metadata": {},
          "execution_count": 8
        }
      ]
    },
    {
      "cell_type": "code",
      "source": [
        "#Combining string with numeric calculation using .format\n",
        "print(\"value is {r:1.5f}\".format(r=10/7))"
      ],
      "metadata": {
        "colab": {
          "base_uri": "https://localhost:8080/"
        },
        "id": "6s-6ZGS9EA8Q",
        "outputId": "976cd4aa-22cc-4d9a-d94f-2b115a4902ba"
      },
      "execution_count": null,
      "outputs": [
        {
          "output_type": "stream",
          "name": "stdout",
          "text": [
            "value is 1.42857\n"
          ]
        }
      ]
    },
    {
      "cell_type": "markdown",
      "source": [
        "**String Formatting with placeholders (%)**\n",
        "\n",
        "A placeholder % can be used to add a numeric or a string within another string\n",
        "\n",
        "Use placeholder %s for string, %d for digit, and %f for floating point number"
      ],
      "metadata": {
        "id": "h7tU-M-CEplG"
      }
    },
    {
      "cell_type": "code",
      "source": [
        "#Using a placeholder % to add a string within another string\n",
        "print(\"this string has %s missing\" %\"something\")"
      ],
      "metadata": {
        "colab": {
          "base_uri": "https://localhost:8080/"
        },
        "id": "GC9udq5uE1ko",
        "outputId": "0105a7a0-78ba-449b-b9e4-d99ae679f6e4"
      },
      "execution_count": null,
      "outputs": [
        {
          "output_type": "stream",
          "name": "stdout",
          "text": [
            "this string has something missing\n"
          ]
        }
      ]
    },
    {
      "cell_type": "code",
      "source": [
        "#Using a placeholder % to add a string within another string\n",
        "print(\"I am roaming %s and %s\" %(\"here\", \"there\"))"
      ],
      "metadata": {
        "colab": {
          "base_uri": "https://localhost:8080/"
        },
        "id": "AzTheb-UFXx5",
        "outputId": "a366d303-5118-4441-bf19-46eb50a8f5f7"
      },
      "execution_count": null,
      "outputs": [
        {
          "output_type": "stream",
          "name": "stdout",
          "text": [
            "I am roaming here and there\n"
          ]
        }
      ]
    },
    {
      "cell_type": "code",
      "source": [
        "#Using a placeholder % to add an integer and float within a string\n",
        "print(\"Here is a placeholder for numbers %d and %f\" %(798, 1.567))"
      ],
      "metadata": {
        "colab": {
          "base_uri": "https://localhost:8080/"
        },
        "id": "Y9kN0LtpGLmZ",
        "outputId": "96d0e971-a5d0-479e-a369-2b0d944b7b90"
      },
      "execution_count": null,
      "outputs": [
        {
          "output_type": "stream",
          "name": "stdout",
          "text": [
            "Here is a placeholder for numbers 798 and 1.567000\n"
          ]
        }
      ]
    },
    {
      "cell_type": "markdown",
      "source": [
        "**Numeric Operators**\n",
        "\n",
        "Table with brief descriptions in slide 56 of 'Getting started with Python workshop slides'"
      ],
      "metadata": {
        "id": "aT2StBnRHcQM"
      }
    },
    {
      "cell_type": "code",
      "source": [
        "#Addition\n",
        "1 + 2"
      ],
      "metadata": {
        "colab": {
          "base_uri": "https://localhost:8080/"
        },
        "id": "Xtx2AKZEHvpg",
        "outputId": "ff33ee56-5a58-4b69-92fa-6dbc6feebf29"
      },
      "execution_count": null,
      "outputs": [
        {
          "output_type": "execute_result",
          "data": {
            "text/plain": [
              "3"
            ]
          },
          "metadata": {},
          "execution_count": 18
        }
      ]
    },
    {
      "cell_type": "code",
      "source": [
        "#Subtraction\n",
        "1 - 2"
      ],
      "metadata": {
        "colab": {
          "base_uri": "https://localhost:8080/"
        },
        "id": "0GK7jz6lH20i",
        "outputId": "4e605795-8672-463a-9c2c-2046f626199d"
      },
      "execution_count": null,
      "outputs": [
        {
          "output_type": "execute_result",
          "data": {
            "text/plain": [
              "-1"
            ]
          },
          "metadata": {},
          "execution_count": 19
        }
      ]
    },
    {
      "cell_type": "code",
      "source": [
        "#Multiplication\n",
        "2.504 * 8.897"
      ],
      "metadata": {
        "colab": {
          "base_uri": "https://localhost:8080/"
        },
        "id": "F6fHxNd_H-Ey",
        "outputId": "4431bdd8-aa74-48ae-d144-a62a7ea986d8"
      },
      "execution_count": null,
      "outputs": [
        {
          "output_type": "execute_result",
          "data": {
            "text/plain": [
              "22.278088"
            ]
          },
          "metadata": {},
          "execution_count": 20
        }
      ]
    },
    {
      "cell_type": "code",
      "source": [
        "#Division\n",
        "22000/12"
      ],
      "metadata": {
        "colab": {
          "base_uri": "https://localhost:8080/"
        },
        "id": "Aiov32j1H_8A",
        "outputId": "698e9693-8a7d-492b-e2a5-f1b1d28ce490"
      },
      "execution_count": null,
      "outputs": [
        {
          "output_type": "execute_result",
          "data": {
            "text/plain": [
              "1833.3333333333333"
            ]
          },
          "metadata": {},
          "execution_count": 21
        }
      ]
    },
    {
      "cell_type": "code",
      "source": [
        "#Modulus\n",
        "5%2"
      ],
      "metadata": {
        "colab": {
          "base_uri": "https://localhost:8080/"
        },
        "id": "G2e0lWlkIN9p",
        "outputId": "148b0a00-02ad-4fbd-d7b2-64535247075d"
      },
      "execution_count": null,
      "outputs": [
        {
          "output_type": "execute_result",
          "data": {
            "text/plain": [
              "1"
            ]
          },
          "metadata": {},
          "execution_count": 22
        }
      ]
    },
    {
      "cell_type": "code",
      "source": [
        "#Exponentiation\n",
        "3**3"
      ],
      "metadata": {
        "colab": {
          "base_uri": "https://localhost:8080/"
        },
        "id": "JCtjJIe1ITbT",
        "outputId": "ab0f07b0-bc9d-497d-e26d-51ac66b37aa5"
      },
      "execution_count": null,
      "outputs": [
        {
          "output_type": "execute_result",
          "data": {
            "text/plain": [
              "27"
            ]
          },
          "metadata": {},
          "execution_count": 23
        }
      ]
    },
    {
      "cell_type": "code",
      "source": [
        "#Using multiple numeric operators\n",
        "(5+3*6.6/12)**2"
      ],
      "metadata": {
        "colab": {
          "base_uri": "https://localhost:8080/"
        },
        "id": "LFEoJ9FFIbVI",
        "outputId": "0b32aa47-8361-415f-93eb-2db959300e0b"
      },
      "execution_count": null,
      "outputs": [
        {
          "output_type": "execute_result",
          "data": {
            "text/plain": [
              "44.22249999999999"
            ]
          },
          "metadata": {},
          "execution_count": 24
        }
      ]
    },
    {
      "cell_type": "markdown",
      "source": [
        "**Boolean**\n",
        "\n",
        "Booleans have only two possible values: True or False\n",
        "\n",
        "Note booleans are case sensitive: True, False. \n",
        "Typing true gives an error"
      ],
      "metadata": {
        "id": "zjn5FMD5gEPJ"
      }
    },
    {
      "cell_type": "markdown",
      "source": [
        "Comparison Operators [slide 59]\n",
        "\n",
        "Used to establish comparison between two values\n",
        "\n",
        "Operator\tName\t                      Example\n",
        "==\t      Equal\t                      a == b\n",
        "!=\t      Not equal\t                  a != b\n",
        ">\t        Greater than\t              a > b\n",
        "<\t        Less than\t                  a < b\n",
        ">=\t      Greater than or equal to\t  a >= b\n",
        "<=\t      Less than or equal to\t      a <=b\n"
      ],
      "metadata": {
        "id": "uKQRCNjKgRCo"
      }
    },
    {
      "cell_type": "code",
      "source": [
        "#Equal to\n",
        "5 == 7"
      ],
      "metadata": {
        "colab": {
          "base_uri": "https://localhost:8080/"
        },
        "id": "Tp13YItvi_Pr",
        "outputId": "b6fc5e54-bddd-46a5-bcf6-75d809a1c38b"
      },
      "execution_count": null,
      "outputs": [
        {
          "output_type": "execute_result",
          "data": {
            "text/plain": [
              "False"
            ]
          },
          "metadata": {},
          "execution_count": 2
        }
      ]
    },
    {
      "cell_type": "code",
      "source": [
        "#Greater than\n",
        "6>3"
      ],
      "metadata": {
        "colab": {
          "base_uri": "https://localhost:8080/"
        },
        "id": "t4TE1d70jXQ5",
        "outputId": "4f2aca77-71c7-4d59-919a-4cc6b33957c4"
      },
      "execution_count": null,
      "outputs": [
        {
          "output_type": "execute_result",
          "data": {
            "text/plain": [
              "True"
            ]
          },
          "metadata": {},
          "execution_count": 3
        }
      ]
    },
    {
      "cell_type": "code",
      "source": [
        "#Equal to test\n",
        "x = 4\n",
        "y = 16\n",
        "x ** 2 == y"
      ],
      "metadata": {
        "colab": {
          "base_uri": "https://localhost:8080/"
        },
        "id": "eITtMi2VjllB",
        "outputId": "fd14b261-2bd2-45a0-99df-fcaa76ce0c63"
      },
      "execution_count": null,
      "outputs": [
        {
          "output_type": "execute_result",
          "data": {
            "text/plain": [
              "True"
            ]
          },
          "metadata": {},
          "execution_count": 4
        }
      ]
    },
    {
      "cell_type": "code",
      "source": [
        "#Greater than test\n",
        "r = 5.3\n",
        "pi = 3.14\n",
        "circum = 2*pi*r\n",
        "print(str(circum))\n",
        "circum > 15"
      ],
      "metadata": {
        "colab": {
          "base_uri": "https://localhost:8080/"
        },
        "id": "2P06I0IIkNBW",
        "outputId": "4d69f553-8b9b-47cf-e1be-7bb2cfa865a3"
      },
      "execution_count": null,
      "outputs": [
        {
          "output_type": "stream",
          "name": "stdout",
          "text": [
            "33.284\n"
          ]
        },
        {
          "output_type": "execute_result",
          "data": {
            "text/plain": [
              "True"
            ]
          },
          "metadata": {},
          "execution_count": 6
        }
      ]
    },
    {
      "cell_type": "markdown",
      "source": [
        "Logical Operators [slide 60]\n",
        "\n",
        "Logical operators can be used to combine two or more conditional statements\n",
        "\n",
        "Operator   Description                                   Example\n",
        "and        True if all the statements are true           a > b and a > c\n",
        "or         True if any one of the statements is true     a > b or a > c\n",
        "not        Negate the result                             not (a > b)"
      ],
      "metadata": {
        "id": "dzb4Bk1kkxvb"
      }
    },
    {
      "cell_type": "code",
      "source": [
        "a = 5\n",
        "b = 3\n",
        "c = 7\n",
        "a > b and a > c"
      ],
      "metadata": {
        "colab": {
          "base_uri": "https://localhost:8080/"
        },
        "id": "zhEopP6Ulxuf",
        "outputId": "4b2b7212-774e-4610-e6c9-6ff0d0b4cff2"
      },
      "execution_count": null,
      "outputs": [
        {
          "output_type": "execute_result",
          "data": {
            "text/plain": [
              "False"
            ]
          },
          "metadata": {},
          "execution_count": 8
        }
      ]
    },
    {
      "cell_type": "code",
      "source": [
        "a > b or a > c"
      ],
      "metadata": {
        "colab": {
          "base_uri": "https://localhost:8080/"
        },
        "id": "aLwBXgyGmQjF",
        "outputId": "a40a398f-06ae-4c73-8c9d-f4fc149bc740"
      },
      "execution_count": null,
      "outputs": [
        {
          "output_type": "execute_result",
          "data": {
            "text/plain": [
              "True"
            ]
          },
          "metadata": {},
          "execution_count": 9
        }
      ]
    },
    {
      "cell_type": "code",
      "source": [
        "not a > b"
      ],
      "metadata": {
        "colab": {
          "base_uri": "https://localhost:8080/"
        },
        "id": "ifSCiuXMmYK3",
        "outputId": "3657ce84-521d-44bc-d728-1dc76d7bb3bc"
      },
      "execution_count": null,
      "outputs": [
        {
          "output_type": "execute_result",
          "data": {
            "text/plain": [
              "False"
            ]
          },
          "metadata": {},
          "execution_count": 10
        }
      ]
    },
    {
      "cell_type": "markdown",
      "source": [
        "**Numbers with Variable Assignments**\n",
        "\n",
        "Variables are case sensitive\n",
        "\n",
        "Variable names must use alphanumeric characters and underscores (i.e. A-z, 0-9, and _)"
      ],
      "metadata": {
        "id": "85oL9vxa-qo6"
      }
    },
    {
      "cell_type": "code",
      "source": [
        "velocity = 100 #km/h\n",
        "time = 5 #hr\n",
        "#distance\n",
        "distance = velocity*time\n",
        "print(distance)"
      ],
      "metadata": {
        "colab": {
          "base_uri": "https://localhost:8080/"
        },
        "id": "qEl_HmJ7D2nC",
        "outputId": "86a65f1c-a226-4c3a-a2b1-1940f02ec752"
      },
      "execution_count": null,
      "outputs": [
        {
          "output_type": "stream",
          "name": "stdout",
          "text": [
            "500\n"
          ]
        }
      ]
    },
    {
      "cell_type": "code",
      "source": [
        "radius = 5\n",
        "pi = 3.14\n",
        "circum = 2*pi*radius\n",
        "area = pi*radius**2\n",
        "print(circum)\n",
        "print(area)"
      ],
      "metadata": {
        "colab": {
          "base_uri": "https://localhost:8080/"
        },
        "id": "MXv2AvTwERiP",
        "outputId": "7bd77cf0-d5db-4868-c467-7b416c888637"
      },
      "execution_count": null,
      "outputs": [
        {
          "output_type": "stream",
          "name": "stdout",
          "text": [
            "31.400000000000002\n",
            "78.5\n"
          ]
        }
      ]
    },
    {
      "cell_type": "markdown",
      "source": [
        "**WEEK 3 Fundamentals of Python programming language workshop slides**"
      ],
      "metadata": {
        "id": "27yo7Qvgq3_a"
      }
    },
    {
      "cell_type": "markdown",
      "source": [
        "**Python if/else statements** (conditional statements) [slides 6 & 7]\n",
        "\n",
        "➢ If/else statements are used to run a particular code only when a certain condition is met\n",
        "\n",
        "➢ They make use of logical operators while defining the condition\n",
        "\n",
        "➢ If/else logic can be extended by using nested if conditions"
      ],
      "metadata": {
        "id": "9ZUExc9LgzWg"
      }
    },
    {
      "cell_type": "code",
      "source": [
        "#simple python if statement\n",
        "x = 11\n",
        "if x % 2 == 0: #remember % is modulus or remainder\n",
        "  print(\"This is an even number\")\n",
        "else:\n",
        "  print(\"This is not an even number\")"
      ],
      "metadata": {
        "colab": {
          "base_uri": "https://localhost:8080/"
        },
        "id": "PBCQTD0EhGPl",
        "outputId": "309748d2-d8dd-4e2f-bd22-45f129cd3359"
      },
      "execution_count": 2,
      "outputs": [
        {
          "output_type": "stream",
          "name": "stdout",
          "text": [
            "This is not an even number\n"
          ]
        }
      ]
    },
    {
      "cell_type": "code",
      "source": [
        "#simple python if statement\n",
        "x = 10\n",
        "if x % 2 == 10:\n",
        "  print (\"This is an even number\")\n",
        "else:\n",
        "  print(\"This is an odd number\")"
      ],
      "metadata": {
        "colab": {
          "base_uri": "https://localhost:8080/"
        },
        "id": "COjiiPYGhbEJ",
        "outputId": "7a139732-ef8a-489f-9149-b2f3ba8582c3"
      },
      "execution_count": 3,
      "outputs": [
        {
          "output_type": "stream",
          "name": "stdout",
          "text": [
            "This is an odd number\n"
          ]
        }
      ]
    },
    {
      "cell_type": "markdown",
      "source": [
        "^ : or colon at the end of a line makes it a statement. one equal = sign means \"set the value of a to the same as b\"\n",
        "\n",
        "two equal == signs mean \"do a and b have the same value? True/False\"\n",
        "\n",
        "Also remember that in Python, the body of the if statement is indicated by the indentation. The body starts with an indentation and the first unindented line marks the end."
      ],
      "metadata": {
        "id": "rYggggUFhpyb"
      }
    },
    {
      "cell_type": "markdown",
      "source": [
        "**Python if-elif-else statements** [slide 9]\n",
        "\n",
        "The elif is short for else if. It allows us to check for multiple expressions.\n",
        "\n",
        "If the condition for if is False, it checks the condition of the next elif block and so on.\n",
        "\n",
        "If all the conditions are False, the body of else is executed.\n",
        "\n",
        "Only one block among the several if...elif...else blocks is executed according to the condition.\n",
        "\n",
        "The if block can have only one else block. But it can have multiple elif blocks.\n",
        "\n",
        "[From: https://www.programiz.com/python-programming/if-elif-else]"
      ],
      "metadata": {
        "id": "Lo194ISEiKNZ"
      }
    },
    {
      "cell_type": "code",
      "source": [
        "a=15\n",
        "b=12\n",
        "if a==b:\n",
        "  print(\"The two numbers are equal\")\n",
        "elif a>b:\n",
        "  print(\"The first number is greater than the second\")\n",
        "else:\n",
        "  print(\"The first number is smaller than the second\")"
      ],
      "metadata": {
        "colab": {
          "base_uri": "https://localhost:8080/"
        },
        "id": "dhkEZYb2k9L-",
        "outputId": "1005200c-8456-4881-df0f-31476b748630"
      },
      "execution_count": 5,
      "outputs": [
        {
          "output_type": "stream",
          "name": "stdout",
          "text": [
            "The first number is greater than the second\n"
          ]
        }
      ]
    },
    {
      "cell_type": "code",
      "source": [
        "a = 0\n",
        "if a > 0:\n",
        "  print (\"This number is positive\")\n",
        "elif a == 0:\n",
        "  print (\"This number is zero\")\n",
        "else:\n",
        "  print (\"This number is negative\")"
      ],
      "metadata": {
        "colab": {
          "base_uri": "https://localhost:8080/"
        },
        "id": "qGcjHKvPlYr9",
        "outputId": "8ac59c42-8731-4fdb-af5a-2e80a37e8a78"
      },
      "execution_count": 8,
      "outputs": [
        {
          "output_type": "stream",
          "name": "stdout",
          "text": [
            "This number is zero\n"
          ]
        }
      ]
    },
    {
      "cell_type": "code",
      "source": [
        "a = 3.4\n",
        "if a > 0:\n",
        "  print(\"This number is positive\")\n",
        "elif a == 0:\n",
        "  print(\"This number is zero\")\n",
        "else:\n",
        "  print(\"This number is negative\")"
      ],
      "metadata": {
        "colab": {
          "base_uri": "https://localhost:8080/"
        },
        "id": "e7bd_QTqmS_2",
        "outputId": "7ccb4812-e607-4e7f-bf9a-58e5ee355f2f"
      },
      "execution_count": 9,
      "outputs": [
        {
          "output_type": "stream",
          "name": "stdout",
          "text": [
            "This number is positive\n"
          ]
        }
      ]
    },
    {
      "cell_type": "code",
      "source": [
        "a = -4.5\n",
        "if a > 0:\n",
        "  print(\"This number is positive\")\n",
        "elif a == 0:\n",
        "  print(\"This number is zero\")\n",
        "else:\n",
        "  print(\"This number is negative\")"
      ],
      "metadata": {
        "colab": {
          "base_uri": "https://localhost:8080/"
        },
        "id": "ehjT1zF6mmDL",
        "outputId": "126d464f-d8f8-45de-bf45-c79b6794a2a2"
      },
      "execution_count": 10,
      "outputs": [
        {
          "output_type": "stream",
          "name": "stdout",
          "text": [
            "This number is negative\n"
          ]
        }
      ]
    },
    {
      "cell_type": "markdown",
      "source": [
        "**Python For loops** [slides 11 & 12]\n",
        "\n",
        "➢ Used for iterating through a sequence (such as a list, tuple, dictionary, set, or string)\n",
        "\n",
        "➢ Allows for the execution of a set of statements, once for each item in\n",
        "the list, tuple, dictionary and so on"
      ],
      "metadata": {
        "id": "N322vjiVna9W"
      }
    },
    {
      "cell_type": "code",
      "source": [
        "for i in range (0,6): #remember last number is always ignored. Only the ones before it are.\n",
        "  print(\"The iteration number is {}\".format(i))\n",
        "print(\"The end\")"
      ],
      "metadata": {
        "colab": {
          "base_uri": "https://localhost:8080/"
        },
        "id": "-HU5qJ1PpFz-",
        "outputId": "fa239d14-bd4d-4e72-f273-0b4fa3c112a2"
      },
      "execution_count": 12,
      "outputs": [
        {
          "output_type": "stream",
          "name": "stdout",
          "text": [
            "The iteration number is 0\n",
            "The iteration number is 1\n",
            "The iteration number is 2\n",
            "The iteration number is 3\n",
            "The iteration number is 4\n",
            "The iteration number is 5\n",
            "The end\n"
          ]
        }
      ]
    },
    {
      "cell_type": "markdown",
      "source": [
        "**Python While loops** [slides 11 & 13]\n",
        "\n",
        "➢ Used to execute a set of statements when the specified condition is true\n",
        "\n",
        "➢ It repeats until a certain condition is met"
      ],
      "metadata": {
        "id": "pTLgL412qH-K"
      }
    },
    {
      "cell_type": "code",
      "source": [
        "target_val = 5 #target value\n",
        "iter_num = 0 #iteration number\n",
        "while iter_num < target_val:\n",
        "  print(\"This iteration number is {} which is less than the target value {}\".format(iter_num, target_val))\n",
        "  iter_num = iter_num+1 #keeps adding a 1 to the iteration number"
      ],
      "metadata": {
        "colab": {
          "base_uri": "https://localhost:8080/"
        },
        "id": "0tdxF3uzqtJV",
        "outputId": "2a9d00f0-210d-46c7-979f-ea9357b32be7"
      },
      "execution_count": 17,
      "outputs": [
        {
          "output_type": "stream",
          "name": "stdout",
          "text": [
            "This iteration number is 0 which is less than the target value 5\n",
            "This iteration number is 1 which is less than the target value 5\n",
            "This iteration number is 2 which is less than the target value 5\n",
            "This iteration number is 3 which is less than the target value 5\n",
            "This iteration number is 4 which is less than the target value 5\n"
          ]
        }
      ]
    },
    {
      "cell_type": "markdown",
      "source": [
        "**Indentation** [slide 14]\n",
        "\n",
        "In Python, indentation defines a block of code. This also helps to improve readability\n",
        "\n",
        "Indentation is the spaces left at the beginning of each code line\n",
        "\n",
        "Indentation is a general practice in all programming languages to improve readability. However, in Python, the code may throw an error or execute improperly without appropriate indentation"
      ],
      "metadata": {
        "id": "X46_ME0X17DE"
      }
    },
    {
      "cell_type": "code",
      "source": [
        "#prints error code because the indentation is missing in the second line\n",
        "if True:\n",
        "print(\"This is correct indentation\")"
      ],
      "metadata": {
        "colab": {
          "base_uri": "https://localhost:8080/",
          "height": 130
        },
        "id": "xcLMdtj52IfM",
        "outputId": "3079e93f-abe8-484d-f94c-be0ae31753d7"
      },
      "execution_count": 18,
      "outputs": [
        {
          "output_type": "error",
          "ename": "IndentationError",
          "evalue": "ignored",
          "traceback": [
            "\u001b[0;36m  File \u001b[0;32m\"<ipython-input-18-9114c54a3a25>\"\u001b[0;36m, line \u001b[0;32m3\u001b[0m\n\u001b[0;31m    print(\"This is correct indentation\")\u001b[0m\n\u001b[0m        ^\u001b[0m\n\u001b[0;31mIndentationError\u001b[0m\u001b[0;31m:\u001b[0m expected an indented block\n"
          ]
        }
      ]
    },
    {
      "cell_type": "code",
      "source": [
        "#shows that as long as the indentation is in the right place, the number of spaces does not matter\n",
        "if False:\n",
        "  print(\"This is correct indentation\")\n",
        "else:\n",
        "              print(\"The number of spaces does not matter\")"
      ],
      "metadata": {
        "colab": {
          "base_uri": "https://localhost:8080/"
        },
        "id": "5NeLoQlL3DkN",
        "outputId": "d4e95a78-c25b-4eac-ba7c-a49c43525186"
      },
      "execution_count": 19,
      "outputs": [
        {
          "output_type": "stream",
          "name": "stdout",
          "text": [
            "The number of spaces does not matter\n"
          ]
        }
      ]
    },
    {
      "cell_type": "code",
      "source": [
        "#shows that blocks of code should have consistent indentations otherwise an error code will be produced\n",
        "if False:\n",
        "  print(\"This is correct indentation\")\n",
        "else: \n",
        "      print(\"The number of spaces does not matter\")\n",
        "    print(\"But all statements in a block should have the same indentation\")"
      ],
      "metadata": {
        "colab": {
          "base_uri": "https://localhost:8080/",
          "height": 130
        },
        "id": "vat1uvgy39T1",
        "outputId": "4fbfc959-561c-4bae-9d7b-e68a8243c11a"
      },
      "execution_count": 21,
      "outputs": [
        {
          "output_type": "error",
          "ename": "IndentationError",
          "evalue": "ignored",
          "traceback": [
            "\u001b[0;36m  File \u001b[0;32m\"<tokenize>\"\u001b[0;36m, line \u001b[0;32m5\u001b[0m\n\u001b[0;31m    print(\"But all statements in a block should have the same indentation\")\u001b[0m\n\u001b[0m    ^\u001b[0m\n\u001b[0;31mIndentationError\u001b[0m\u001b[0;31m:\u001b[0m unindent does not match any outer indentation level\n"
          ]
        }
      ]
    },
    {
      "cell_type": "markdown",
      "source": [
        "**Repetition – Nested Loops** [slide 16]\n",
        "\n",
        "A loop inside the body (indentation) of an outer loop. Both inside and outside loops can be either For or While loops\n",
        "\n",
        "For each iteration of an outer loop, the inner loop re-starts and completes its execution before the outer loop can continue to its next iteration\n",
        "\n",
        "Applications: multi-dimensional structures such as two dimensional arrays, image pixel handling, etc"
      ],
      "metadata": {
        "id": "ugo6fUocAJLZ"
      }
    },
    {
      "cell_type": "code",
      "source": [
        "#Example code for tables of 1 to 5\n",
        "for i in range (1,5): #outer loop\n",
        "  for j in range (1,11): #inner loop iterates from 1 to 10\n",
        "    print (i * j, end = \" \") #for each value of i, j iterates from 1 to 10\n",
        "  print()"
      ],
      "metadata": {
        "colab": {
          "base_uri": "https://localhost:8080/"
        },
        "id": "CO-zifHcAvM9",
        "outputId": "8f1c8df6-fd31-4591-f55e-dd1b8484d1ff"
      },
      "execution_count": 24,
      "outputs": [
        {
          "output_type": "stream",
          "name": "stdout",
          "text": [
            "1 2 3 4 5 6 7 8 9 10 \n",
            "2 4 6 8 10 12 14 16 18 20 \n",
            "3 6 9 12 15 18 21 24 27 30 \n",
            "4 8 12 16 20 24 28 32 36 40 \n"
          ]
        }
      ]
    },
    {
      "cell_type": "markdown",
      "source": [
        "**Repetition – Break** [slide 17]\n",
        "\n",
        "In order to stop the loop prematurely (i.e., even if/while/for loop condition statement is still True, but you want to exit the loop early), use **break** statement."
      ],
      "metadata": {
        "id": "CoYq1xcnB0ty"
      }
    },
    {
      "cell_type": "code",
      "source": [
        "target_val = 5\n",
        "iter_num = 0\n",
        "while iter_num < target_val:\n",
        "  print(\"This iteration number is {} which is less than the target value {}\".format(iter_num, target_val))\n",
        "  if iter_num == 2:\n",
        "    print(\"Condition met: Breaking out of loop\")\n",
        "    break;\n",
        "  iter_num=iter_num+1"
      ],
      "metadata": {
        "colab": {
          "base_uri": "https://localhost:8080/"
        },
        "id": "eihzqNXdCBhy",
        "outputId": "b233fbc5-44a9-42ce-a729-5f3c2c51efc8"
      },
      "execution_count": 26,
      "outputs": [
        {
          "output_type": "stream",
          "name": "stdout",
          "text": [
            "This iteration number is 0 which is less than the target value 5\n",
            "This iteration number is 1 which is less than the target value 5\n",
            "This iteration number is 2 which is less than the target value 5\n",
            "Condition met: Breaking out of loop\n"
          ]
        }
      ]
    },
    {
      "cell_type": "markdown",
      "source": [
        "**Repetition – Continue** [slide 18]\n",
        "\n",
        "Continue statement inside the loop, when executed, skips the rest of the loop statements underneath it, and continues to the next iteration."
      ],
      "metadata": {
        "id": "92jNQCfCDnom"
      }
    },
    {
      "cell_type": "code",
      "source": [
        "target_val = 5\n",
        "iter_num = 0\n",
        "while iter_num < target_val:\n",
        "  iter_num = iter_num+1\n",
        "  if iter_num == 2: #if this condition is met\n",
        "    continue        #skip all statements underneath it for this iteration and continue to the next iteration\n",
        "  print(\"This iteration number is {} which is less than the target value {}\".format(iter_num, target_val))"
      ],
      "metadata": {
        "colab": {
          "base_uri": "https://localhost:8080/"
        },
        "id": "FZSCTLkjD0Cs",
        "outputId": "b6a510c1-7f3f-441b-94fc-52807fd2fd6f"
      },
      "execution_count": 27,
      "outputs": [
        {
          "output_type": "stream",
          "name": "stdout",
          "text": [
            "This iteration number is 1 which is less than the target value 5\n",
            "This iteration number is 3 which is less than the target value 5\n",
            "This iteration number is 4 which is less than the target value 5\n",
            "This iteration number is 5 which is less than the target value 5\n"
          ]
        }
      ]
    },
    {
      "cell_type": "markdown",
      "source": [
        "**Breakpoints and Debugging**[slide 19]\n",
        "\n",
        "Using breakpoints, we can stop our code while executing at a specific point and then execute line by line with the intention of debugging. This is very efficient for fault tracing.\n",
        "\n",
        "Colab notebook cells already use this concept in a way, because cells “break” your code and let you see results immediately.\n",
        "\n",
        "Extremely useful in IDEs (Integrated Development Environments) where complete\n",
        "code is written in text editors.\n",
        "\n",
        "IDEs have built-in UI-based ways of placing breakpoints. Also, Python breakpoint() built-in function can be used to programmatically set points in code at which a debugger is called."
      ],
      "metadata": {
        "id": "6gwH4elUFhOf"
      }
    },
    {
      "cell_type": "markdown",
      "source": [
        "I'M ON SLIDE 22"
      ],
      "metadata": {
        "id": "GBsArLAaGspI"
      }
    }
  ]
}